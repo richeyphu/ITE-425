{
 "cells": [
  {
   "cell_type": "code",
   "execution_count": 2,
   "metadata": {},
   "outputs": [],
   "source": [
    "from fs.osfs import OSFS"
   ]
  },
  {
   "cell_type": "code",
   "execution_count": 3,
   "metadata": {},
   "outputs": [],
   "source": [
    "with OSFS('.') as myfs:\n",
    "    if (not myfs.exists('new_dir')):\n",
    "        myfs.makedir('new_dir')"
   ]
  },
  {
   "cell_type": "code",
   "execution_count": null,
   "metadata": {},
   "outputs": [],
   "source": [
    "with OSFS('./download/') as myfs:\n",
    "    if (not myfs.exists('new_folder')):\n",
    "        myfs.makedir('new_folder')"
   ]
  },
  {
   "cell_type": "code",
   "execution_count": null,
   "metadata": {},
   "outputs": [],
   "source": [
    "keywords = ['Apple', 'Banana', 'Cherry', 'Orange']\n",
    "\n",
    "for keyword in keywords:\n",
    "    with OSFS('./download/') as myfs:\n",
    "        if(not myfs.exists(keyword)):\n",
    "            myfs.makedir(keyword)"
   ]
  }
 ],
 "metadata": {
  "interpreter": {
   "hash": "7d059b9fa9bae4505faa7362ede21734255ec01674834af0e8c3bbbd8a326f81"
  },
  "kernelspec": {
   "display_name": "Python 3.9.5 64-bit ('.venv': venv)",
   "language": "python",
   "name": "python3"
  },
  "language_info": {
   "codemirror_mode": {
    "name": "ipython",
    "version": 3
   },
   "file_extension": ".py",
   "mimetype": "text/x-python",
   "name": "python",
   "nbconvert_exporter": "python",
   "pygments_lexer": "ipython3",
   "version": "3.9.5"
  },
  "orig_nbformat": 4
 },
 "nbformat": 4,
 "nbformat_minor": 2
}
