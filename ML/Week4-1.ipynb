{
 "cells": [
  {
   "cell_type": "code",
   "execution_count": 2,
   "metadata": {},
   "outputs": [],
   "source": [
    "from selenium import webdriver\n",
    "from bs4 import BeautifulSoup\n",
    "import time\n",
    "import requests\n",
    "import urllib.request"
   ]
  },
  {
   "cell_type": "code",
   "execution_count": 1,
   "metadata": {},
   "outputs": [],
   "source": [
    "path = 'chromedriver'"
   ]
  },
  {
   "cell_type": "code",
   "execution_count": 3,
   "metadata": {},
   "outputs": [],
   "source": [
    "driver = webdriver.Chrome(executable_path = path)\n",
    "driver.get('https://google.com/search?q='+'python')"
   ]
  },
  {
   "cell_type": "code",
   "execution_count": 5,
   "metadata": {},
   "outputs": [
    {
     "name": "stderr",
     "output_type": "stream",
     "text": [
      "D:\\System\\Phu\\AppData\\Local\\Temp/ipykernel_11388/118850460.py:1: DeprecationWarning: executable_path has been deprecated, please pass in a Service object\n",
      "  driver = webdriver.Chrome(executable_path = path)\n",
      "D:\\System\\Phu\\AppData\\Local\\Temp/ipykernel_11388/118850460.py:8: DeprecationWarning: find_element_by_* commands are deprecated. Please use find_element() instead\n",
      "  driver.find_element_by_xpath('//*[@id=\"islmp\"]/div/div/div/div/div[2]/div[2]/input').click()\n"
     ]
    }
   ],
   "source": [
    "driver = webdriver.Chrome(executable_path = path)\n",
    "driver.get('https://www.google.com/search?q=Artificial Intelligence&tbm=isch')\n",
    "\n",
    "for i in range(0,7):\n",
    "    driver.execute_script('window.scrollBy(0,document.body.scrollHeight)')\n",
    "    try:\n",
    "\t\t# for clicking show more results button\n",
    "        driver.find_element_by_xpath('//*[@id=\"islmp\"]/div/div/div/div/div[2]/div[2]/input').click()\n",
    "    except Exception as e:\n",
    "        pass\n",
    "    time.sleep(3)"
   ]
  },
  {
   "cell_type": "code",
   "execution_count": null,
   "metadata": {},
   "outputs": [],
   "source": [
    "soup = BeautifulSoup(driver.page_source,'html.parser')\n",
    "print(soup)"
   ]
  },
  {
   "cell_type": "code",
   "execution_count": null,
   "metadata": {},
   "outputs": [],
   "source": [
    "img_tags = soup.find_all('img', class_ = 'rg_i')\n",
    "\n",
    "for i in img_tags:\n",
    "    try:\n",
    "        print(i['src'])\n",
    "        print('\\n -------- \\n')\n",
    "    except Exception as e:\n",
    "        pass"
   ]
  },
  {
   "cell_type": "code",
   "execution_count": null,
   "metadata": {},
   "outputs": [],
   "source": [
    "img_tags = soup.find_all('img',class_ = 'rg_i')\n",
    "\n",
    "#get pic and download\n",
    "count = 1\n",
    "for i in img_tags:\n",
    "    try:\n",
    "        print(i['src'])\n",
    "        print('\\n ----------- \\n')\n",
    "        urllib.request.urlretrieve(i['src'], str(count)+\".jpg\")\n",
    "        count += 1\n",
    "\n",
    "    except Exception as e:\n",
    "        pass"
   ]
  }
 ],
 "metadata": {
  "interpreter": {
   "hash": "b079217c1ded023299a6d2f2908f78933a3cf468b92a4d770531f844d56693ba"
  },
  "kernelspec": {
   "display_name": "Python 3.9.5 64-bit ('.venv': venv)",
   "language": "python",
   "name": "python3"
  },
  "language_info": {
   "codemirror_mode": {
    "name": "ipython",
    "version": 3
   },
   "file_extension": ".py",
   "mimetype": "text/x-python",
   "name": "python",
   "nbconvert_exporter": "python",
   "pygments_lexer": "ipython3",
   "version": "3.9.5"
  },
  "orig_nbformat": 4
 },
 "nbformat": 4,
 "nbformat_minor": 2
}
